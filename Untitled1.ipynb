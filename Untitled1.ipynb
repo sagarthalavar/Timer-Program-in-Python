{
 "cells": [
  {
   "cell_type": "code",
   "execution_count": 1,
   "id": "eb94275d",
   "metadata": {},
   "outputs": [],
   "source": [
    "    name=\"Sagar\""
   ]
  },
  {
   "cell_type": "code",
   "execution_count": 2,
   "id": "ae49a37a",
   "metadata": {},
   "outputs": [
    {
     "ename": "TypeError",
     "evalue": "'str' object does not support item assignment",
     "output_type": "error",
     "traceback": [
      "\u001b[1;31m---------------------------------------------------------------------------\u001b[0m",
      "\u001b[1;31mTypeError\u001b[0m                                 Traceback (most recent call last)",
      "Cell \u001b[1;32mIn[2], line 1\u001b[0m\n\u001b[1;32m----> 1\u001b[0m name[\u001b[38;5;241m1\u001b[39m]\u001b[38;5;241m=\u001b[39m\u001b[38;5;124m'\u001b[39m\u001b[38;5;124mu\u001b[39m\u001b[38;5;124m'\u001b[39m\n",
      "\u001b[1;31mTypeError\u001b[0m: 'str' object does not support item assignment"
     ]
    }
   ],
   "source": [
    "name[1]='u'"
   ]
  },
  {
   "cell_type": "code",
   "execution_count": 15,
   "id": "04c24d1b",
   "metadata": {},
   "outputs": [],
   "source": [
    "name_1=name[0:4]"
   ]
  },
  {
   "cell_type": "code",
   "execution_count": 16,
   "id": "6bb28fae",
   "metadata": {},
   "outputs": [
    {
     "data": {
      "text/plain": [
       "'Saga'"
      ]
     },
     "execution_count": 16,
     "metadata": {},
     "output_type": "execute_result"
    }
   ],
   "source": [
    "name_1"
   ]
  },
  {
   "cell_type": "code",
   "execution_count": 19,
   "id": "350f3194",
   "metadata": {},
   "outputs": [],
   "source": [
    "name_2=name_1 + ' land'"
   ]
  },
  {
   "cell_type": "code",
   "execution_count": 20,
   "id": "b0c57532",
   "metadata": {},
   "outputs": [
    {
     "data": {
      "text/plain": [
       "'Saga land'"
      ]
     },
     "execution_count": 20,
     "metadata": {},
     "output_type": "execute_result"
    }
   ],
   "source": [
    "name_2"
   ]
  },
  {
   "cell_type": "code",
   "execution_count": 21,
   "id": "491ae5de",
   "metadata": {},
   "outputs": [],
   "source": [
    "sagar=\"I am Sagar\""
   ]
  },
  {
   "cell_type": "code",
   "execution_count": 22,
   "id": "ab131395",
   "metadata": {},
   "outputs": [
    {
     "data": {
      "text/plain": [
       "'I am Sagar'"
      ]
     },
     "execution_count": 22,
     "metadata": {},
     "output_type": "execute_result"
    }
   ],
   "source": [
    "sagar"
   ]
  },
  {
   "cell_type": "code",
   "execution_count": 23,
   "id": "aa300892",
   "metadata": {},
   "outputs": [
    {
     "data": {
      "text/plain": [
       "'i am sagar'"
      ]
     },
     "execution_count": 23,
     "metadata": {},
     "output_type": "execute_result"
    }
   ],
   "source": [
    "sagar.casefold()"
   ]
  },
  {
   "cell_type": "code",
   "execution_count": 24,
   "id": "a21e11a4",
   "metadata": {},
   "outputs": [
    {
     "data": {
      "text/plain": [
       "'I am sagar'"
      ]
     },
     "execution_count": 24,
     "metadata": {},
     "output_type": "execute_result"
    }
   ],
   "source": [
    "sagar.capitalize()"
   ]
  },
  {
   "cell_type": "code",
   "execution_count": 25,
   "id": "49242e2c",
   "metadata": {},
   "outputs": [
    {
     "ename": "TypeError",
     "evalue": "center expected at least 1 argument, got 0",
     "output_type": "error",
     "traceback": [
      "\u001b[1;31m---------------------------------------------------------------------------\u001b[0m",
      "\u001b[1;31mTypeError\u001b[0m                                 Traceback (most recent call last)",
      "Cell \u001b[1;32mIn[25], line 1\u001b[0m\n\u001b[1;32m----> 1\u001b[0m sagar\u001b[38;5;241m.\u001b[39mcenter()\n",
      "\u001b[1;31mTypeError\u001b[0m: center expected at least 1 argument, got 0"
     ]
    }
   ],
   "source": [
    "sagar.center()"
   ]
  },
  {
   "cell_type": "code",
   "execution_count": 26,
   "id": "48846482",
   "metadata": {},
   "outputs": [
    {
     "ename": "TypeError",
     "evalue": "count() takes at least 1 argument (0 given)",
     "output_type": "error",
     "traceback": [
      "\u001b[1;31m---------------------------------------------------------------------------\u001b[0m",
      "\u001b[1;31mTypeError\u001b[0m                                 Traceback (most recent call last)",
      "Cell \u001b[1;32mIn[26], line 1\u001b[0m\n\u001b[1;32m----> 1\u001b[0m sagar\u001b[38;5;241m.\u001b[39mcount()\n",
      "\u001b[1;31mTypeError\u001b[0m: count() takes at least 1 argument (0 given)"
     ]
    }
   ],
   "source": [
    "sagar.count()"
   ]
  },
  {
   "cell_type": "code",
   "execution_count": 30,
   "id": "3a7acc7a",
   "metadata": {},
   "outputs": [
    {
     "data": {
      "text/plain": [
       "'i AM sAGAR'"
      ]
     },
     "execution_count": 30,
     "metadata": {},
     "output_type": "execute_result"
    }
   ],
   "source": [
    "sagar.swapcase()"
   ]
  },
  {
   "cell_type": "code",
   "execution_count": null,
   "id": "36d41964",
   "metadata": {},
   "outputs": [],
   "source": []
  }
 ],
 "metadata": {
  "kernelspec": {
   "display_name": "Python 3 (ipykernel)",
   "language": "python",
   "name": "python3"
  },
  "language_info": {
   "codemirror_mode": {
    "name": "ipython",
    "version": 3
   },
   "file_extension": ".py",
   "mimetype": "text/x-python",
   "name": "python",
   "nbconvert_exporter": "python",
   "pygments_lexer": "ipython3",
   "version": "3.11.5"
  }
 },
 "nbformat": 4,
 "nbformat_minor": 5
}
