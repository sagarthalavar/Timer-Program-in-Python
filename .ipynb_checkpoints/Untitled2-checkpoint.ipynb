{
 "cells": [
  {
   "cell_type": "code",
   "execution_count": 1,
   "id": "e030c9ce",
   "metadata": {},
   "outputs": [],
   "source": [
    "sagar=\"diwdih\""
   ]
  },
  {
   "cell_type": "code",
   "execution_count": 2,
   "id": "74334fe4",
   "metadata": {},
   "outputs": [
    {
     "data": {
      "text/plain": [
       "'diwdih'"
      ]
     },
     "execution_count": 2,
     "metadata": {},
     "output_type": "execute_result"
    }
   ],
   "source": [
    "sagar"
   ]
  },
  {
   "cell_type": "code",
   "execution_count": 3,
   "id": "77fed0c0",
   "metadata": {},
   "outputs": [
    {
     "data": {
      "text/plain": [
       "['diwdih']"
      ]
     },
     "execution_count": 3,
     "metadata": {},
     "output_type": "execute_result"
    }
   ],
   "source": [
    "sagar.split()"
   ]
  },
  {
   "cell_type": "code",
   "execution_count": 4,
   "id": "0195df6d",
   "metadata": {},
   "outputs": [
    {
     "data": {
      "text/plain": [
       "'diwdih'"
      ]
     },
     "execution_count": 4,
     "metadata": {},
     "output_type": "execute_result"
    }
   ],
   "source": [
    "sagar"
   ]
  },
  {
   "cell_type": "code",
   "execution_count": 6,
   "id": "8fc9e506",
   "metadata": {},
   "outputs": [
    {
     "data": {
      "text/plain": [
       "['d', 'wd', 'h']"
      ]
     },
     "execution_count": 6,
     "metadata": {},
     "output_type": "execute_result"
    }
   ],
   "source": [
    "sagar.split('i')"
   ]
  },
  {
   "cell_type": "code",
   "execution_count": 8,
   "id": "facc1690",
   "metadata": {},
   "outputs": [
    {
     "data": {
      "text/plain": [
       "2"
      ]
     },
     "execution_count": 8,
     "metadata": {},
     "output_type": "execute_result"
    }
   ],
   "source": [
    "sagar.count('i')"
   ]
  },
  {
   "cell_type": "raw",
   "id": "133be63a",
   "metadata": {},
   "source": []
  },
  {
   "cell_type": "code",
   "execution_count": 10,
   "id": "68827bec",
   "metadata": {},
   "outputs": [],
   "source": [
    "d={'key':['a','b',34]}"
   ]
  },
  {
   "cell_type": "code",
   "execution_count": 11,
   "id": "5c630422",
   "metadata": {},
   "outputs": [
    {
     "data": {
      "text/plain": [
       "{'key': ['a', 'b', 34]}"
      ]
     },
     "execution_count": 11,
     "metadata": {},
     "output_type": "execute_result"
    }
   ],
   "source": [
    "d"
   ]
  },
  {
   "cell_type": "code",
   "execution_count": null,
   "id": "52f8acbf",
   "metadata": {},
   "outputs": [],
   "source": []
  }
 ],
 "metadata": {
  "kernelspec": {
   "display_name": "Python 3 (ipykernel)",
   "language": "python",
   "name": "python3"
  },
  "language_info": {
   "codemirror_mode": {
    "name": "ipython",
    "version": 3
   },
   "file_extension": ".py",
   "mimetype": "text/x-python",
   "name": "python",
   "nbconvert_exporter": "python",
   "pygments_lexer": "ipython3",
   "version": "3.11.5"
  }
 },
 "nbformat": 4,
 "nbformat_minor": 5
}
