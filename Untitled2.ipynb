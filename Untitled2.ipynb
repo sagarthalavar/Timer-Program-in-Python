{
 "cells": [
  {
   "cell_type": "code",
   "execution_count": 1,
   "id": "74687365",
   "metadata": {},
   "outputs": [],
   "source": [
    "sagar=\"diwdih\""
   ]
  },
  {
   "cell_type": "code",
   "execution_count": 2,
   "id": "93162856",
   "metadata": {},
   "outputs": [
    {
     "data": {
      "text/plain": [
       "'diwdih'"
      ]
     },
     "execution_count": 2,
     "metadata": {},
     "output_type": "execute_result"
    }
   ],
   "source": [
    "sagar"
   ]
  },
  {
   "cell_type": "code",
   "execution_count": 3,
   "id": "cb5c1ad3",
   "metadata": {},
   "outputs": [
    {
     "data": {
      "text/plain": [
       "['diwdih']"
      ]
     },
     "execution_count": 3,
     "metadata": {},
     "output_type": "execute_result"
    }
   ],
   "source": [
    "sagar.split()"
   ]
  },
  {
   "cell_type": "code",
   "execution_count": 4,
   "id": "cff7b7ed",
   "metadata": {},
   "outputs": [
    {
     "data": {
      "text/plain": [
       "'diwdih'"
      ]
     },
     "execution_count": 4,
     "metadata": {},
     "output_type": "execute_result"
    }
   ],
   "source": [
    "sagar"
   ]
  },
  {
   "cell_type": "code",
   "execution_count": 6,
   "id": "5e77b341",
   "metadata": {},
   "outputs": [
    {
     "data": {
      "text/plain": [
       "['d', 'wd', 'h']"
      ]
     },
     "execution_count": 6,
     "metadata": {},
     "output_type": "execute_result"
    }
   ],
   "source": [
    "sagar.split('i')"
   ]
  },
  {
   "cell_type": "code",
   "execution_count": 8,
   "id": "2878c77c",
   "metadata": {},
   "outputs": [
    {
     "data": {
      "text/plain": [
       "2"
      ]
     },
     "execution_count": 8,
     "metadata": {},
     "output_type": "execute_result"
    }
   ],
   "source": [
    "sagar.count('i')"
   ]
  },
  {
   "cell_type": "raw",
   "id": "82e71a46",
   "metadata": {},
   "source": []
  },
  {
   "cell_type": "code",
   "execution_count": 10,
   "id": "cf91ddb5",
   "metadata": {},
   "outputs": [],
   "source": [
    "d={'key':['a','b',34]}"
   ]
  },
  {
   "cell_type": "code",
   "execution_count": 11,
   "id": "5bbbf167",
   "metadata": {},
   "outputs": [
    {
     "data": {
      "text/plain": [
       "{'key': ['a', 'b', 34]}"
      ]
     },
     "execution_count": 11,
     "metadata": {},
     "output_type": "execute_result"
    }
   ],
   "source": [
    "d"
   ]
  },
  {
   "cell_type": "code",
   "execution_count": 14,
   "id": "ae1164cf",
   "metadata": {},
   "outputs": [],
   "source": [
    "list1=d['key'][1].upper()"
   ]
  },
  {
   "cell_type": "code",
   "execution_count": 15,
   "id": "7ce0bc03",
   "metadata": {},
   "outputs": [
    {
     "data": {
      "text/plain": [
       "'B'"
      ]
     },
     "execution_count": 15,
     "metadata": {},
     "output_type": "execute_result"
    }
   ],
   "source": [
    "list1"
   ]
  },
  {
   "cell_type": "code",
   "execution_count": 16,
   "id": "6cca4c64",
   "metadata": {},
   "outputs": [],
   "source": [
    "sagar=['sagar',23,323]"
   ]
  },
  {
   "cell_type": "code",
   "execution_count": 17,
   "id": "50ff56de",
   "metadata": {},
   "outputs": [
    {
     "data": {
      "text/plain": [
       "['sagar', 23, 323]"
      ]
     },
     "execution_count": 17,
     "metadata": {},
     "output_type": "execute_result"
    }
   ],
   "source": [
    "sagar"
   ]
  },
  {
   "cell_type": "code",
   "execution_count": 18,
   "id": "49a78619",
   "metadata": {},
   "outputs": [],
   "source": [
    "sagar.append(232)"
   ]
  },
  {
   "cell_type": "code",
   "execution_count": 19,
   "id": "6685b540",
   "metadata": {},
   "outputs": [
    {
     "data": {
      "text/plain": [
       "['sagar', 23, 323, 232]"
      ]
     },
     "execution_count": 19,
     "metadata": {},
     "output_type": "execute_result"
    }
   ],
   "source": [
    "sagar"
   ]
  },
  {
   "cell_type": "code",
   "execution_count": 20,
   "id": "da5774f0",
   "metadata": {},
   "outputs": [
    {
     "data": {
      "text/plain": [
       "232"
      ]
     },
     "execution_count": 20,
     "metadata": {},
     "output_type": "execute_result"
    }
   ],
   "source": [
    "sagar.pop()"
   ]
  },
  {
   "cell_type": "code",
   "execution_count": 21,
   "id": "1acbbff1",
   "metadata": {},
   "outputs": [
    {
     "data": {
      "text/plain": [
       "323"
      ]
     },
     "execution_count": 21,
     "metadata": {},
     "output_type": "execute_result"
    }
   ],
   "source": [
    "sagar.pop(2)"
   ]
  },
  {
   "cell_type": "code",
   "execution_count": 22,
   "id": "c734489b",
   "metadata": {},
   "outputs": [],
   "source": [
    "saar='king'\n",
    "saaar='killer'"
   ]
  },
  {
   "cell_type": "code",
   "execution_count": 23,
   "id": "30b2bdd4",
   "metadata": {},
   "outputs": [
    {
     "data": {
      "text/plain": [
       "'king'"
      ]
     },
     "execution_count": 23,
     "metadata": {},
     "output_type": "execute_result"
    }
   ],
   "source": [
    "saar"
   ]
  },
  {
   "cell_type": "code",
   "execution_count": 48,
   "id": "27c46766",
   "metadata": {},
   "outputs": [
    {
     "ename": "SyntaxError",
     "evalue": "unterminated string literal (detected at line 2) (789321622.py, line 2)",
     "output_type": "error",
     "traceback": [
      "\u001b[1;36m  Cell \u001b[1;32mIn[48], line 2\u001b[1;36m\u001b[0m\n\u001b[1;33m    print(f\"hey his name isd {s1}')\u001b[0m\n\u001b[1;37m          ^\u001b[0m\n\u001b[1;31mSyntaxError\u001b[0m\u001b[1;31m:\u001b[0m unterminated string literal (detected at line 2)\n"
     ]
    }
   ],
   "source": [
    "s1=\"string1\"\n",
    "print(f\"hey his name isd {s1}')"
   ]
  },
  {
   "cell_type": "code",
   "execution_count": 50,
   "id": "7c68445a",
   "metadata": {},
   "outputs": [
    {
     "name": "stdout",
     "output_type": "stream",
     "text": [
      "hey his name isd string1\n"
     ]
    }
   ],
   "source": [
    "s1=\"string1\"\n",
    "print(f'hey his name isd {s1}')"
   ]
  },
  {
   "cell_type": "code",
   "execution_count": 60,
   "id": "f1debb03",
   "metadata": {},
   "outputs": [
    {
     "name": "stdout",
     "output_type": "stream",
     "text": [
      "hey his firstname and lastname is \n"
     ]
    }
   ],
   "source": [
    "string1=\"firstname\"\n",
    "string2=\"lastname\"\n",
    "print(f'hey his {string1} and {string2} is ')"
   ]
  },
  {
   "cell_type": "code",
   "execution_count": 1,
   "id": "fa0aa04f",
   "metadata": {},
   "outputs": [
    {
     "name": "stdout",
     "output_type": "stream",
     "text": [
      "hey his firstname and lastname is\n"
     ]
    }
   ],
   "source": [
    "string1=\"firstname\"\n",
    "string2=\"lastname\"\n",
    "print('hey his {} and {} is'.format(string1,string2))"
   ]
  },
  {
   "cell_type": "code",
   "execution_count": 2,
   "id": "aaaf619e",
   "metadata": {},
   "outputs": [],
   "source": [
    "ibjh=None"
   ]
  },
  {
   "cell_type": "code",
   "execution_count": 3,
   "id": "229fac00",
   "metadata": {},
   "outputs": [
    {
     "data": {
      "text/plain": [
       "NoneType"
      ]
     },
     "execution_count": 3,
     "metadata": {},
     "output_type": "execute_result"
    }
   ],
   "source": [
    "type(ibjh)"
   ]
  },
  {
   "cell_type": "code",
   "execution_count": 4,
   "id": "be48d5fe",
   "metadata": {},
   "outputs": [
    {
     "data": {
      "text/plain": [
       "{1, 2, 3}"
      ]
     },
     "execution_count": 4,
     "metadata": {},
     "output_type": "execute_result"
    }
   ],
   "source": [
    "set([1,1,2,3])\n",
    "\n"
   ]
  },
  {
   "cell_type": "code",
   "execution_count": 5,
   "id": "61cfd21d",
   "metadata": {},
   "outputs": [
    {
     "name": "stdout",
     "output_type": "stream",
     "text": [
      "Writing sagara.txt\n"
     ]
    }
   ],
   "source": [
    "%%writefile sagara.txt\n",
    "hey sagar how are you "
   ]
  },
  {
   "cell_type": "code",
   "execution_count": 6,
   "id": "2569d8cc",
   "metadata": {},
   "outputs": [
    {
     "data": {
      "text/plain": [
       "'C:\\\\Users\\\\sagar r thalavar\\\\Python'"
      ]
     },
     "execution_count": 6,
     "metadata": {},
     "output_type": "execute_result"
    }
   ],
   "source": [
    "pwd"
   ]
  },
  {
   "cell_type": "code",
   "execution_count": 7,
   "id": "9027012a",
   "metadata": {},
   "outputs": [
    {
     "ename": "NameError",
     "evalue": "name 'sagara' is not defined",
     "output_type": "error",
     "traceback": [
      "\u001b[1;31m---------------------------------------------------------------------------\u001b[0m",
      "\u001b[1;31mNameError\u001b[0m                                 Traceback (most recent call last)",
      "Cell \u001b[1;32mIn[7], line 1\u001b[0m\n\u001b[1;32m----> 1\u001b[0m sagara\u001b[38;5;241m.\u001b[39mread()\n",
      "\u001b[1;31mNameError\u001b[0m: name 'sagara' is not defined"
     ]
    }
   ],
   "source": [
    "sagara.read()"
   ]
  },
  {
   "cell_type": "code",
   "execution_count": 8,
   "id": "4ec84d40",
   "metadata": {},
   "outputs": [
    {
     "ename": "NameError",
     "evalue": "name 'sagara' is not defined",
     "output_type": "error",
     "traceback": [
      "\u001b[1;31m---------------------------------------------------------------------------\u001b[0m",
      "\u001b[1;31mNameError\u001b[0m                                 Traceback (most recent call last)",
      "Cell \u001b[1;32mIn[8], line 1\u001b[0m\n\u001b[1;32m----> 1\u001b[0m sagara\u001b[38;5;241m.\u001b[39mread()\n",
      "\u001b[1;31mNameError\u001b[0m: name 'sagara' is not defined"
     ]
    }
   ],
   "source": [
    "sagara.read()"
   ]
  },
  {
   "cell_type": "code",
   "execution_count": 9,
   "id": "c804887d",
   "metadata": {},
   "outputs": [],
   "source": [
    "sagar=open('sagara.txt')"
   ]
  },
  {
   "cell_type": "code",
   "execution_count": 10,
   "id": "7ac70aae",
   "metadata": {},
   "outputs": [
    {
     "data": {
      "text/plain": [
       "'hey sagar how are you \\n'"
      ]
     },
     "execution_count": 10,
     "metadata": {},
     "output_type": "execute_result"
    }
   ],
   "source": [
    "sagar.read()"
   ]
  },
  {
   "cell_type": "code",
   "execution_count": 11,
   "id": "41834d0b",
   "metadata": {},
   "outputs": [
    {
     "data": {
      "text/plain": [
       "''"
      ]
     },
     "execution_count": 11,
     "metadata": {},
     "output_type": "execute_result"
    }
   ],
   "source": [
    "sagar.read()"
   ]
  },
  {
   "cell_type": "code",
   "execution_count": 12,
   "id": "cc48179d",
   "metadata": {},
   "outputs": [
    {
     "data": {
      "text/plain": [
       "1"
      ]
     },
     "execution_count": 12,
     "metadata": {},
     "output_type": "execute_result"
    }
   ],
   "source": [
    "sagar.seek(1)"
   ]
  },
  {
   "cell_type": "code",
   "execution_count": 13,
   "id": "fd75d06f",
   "metadata": {},
   "outputs": [
    {
     "data": {
      "text/plain": [
       "<function TextIOWrapper.read(size=-1, /)>"
      ]
     },
     "execution_count": 13,
     "metadata": {},
     "output_type": "execute_result"
    }
   ],
   "source": [
    "sagar.read"
   ]
  },
  {
   "cell_type": "code",
   "execution_count": 14,
   "id": "a6b24eba",
   "metadata": {},
   "outputs": [
    {
     "data": {
      "text/plain": [
       "0"
      ]
     },
     "execution_count": 14,
     "metadata": {},
     "output_type": "execute_result"
    }
   ],
   "source": [
    "sagar.seek(0)"
   ]
  },
  {
   "cell_type": "code",
   "execution_count": 15,
   "id": "70c72c22",
   "metadata": {},
   "outputs": [
    {
     "data": {
      "text/plain": [
       "<function TextIOWrapper.read(size=-1, /)>"
      ]
     },
     "execution_count": 15,
     "metadata": {},
     "output_type": "execute_result"
    }
   ],
   "source": [
    "sagar.read"
   ]
  },
  {
   "cell_type": "code",
   "execution_count": 16,
   "id": "36281775",
   "metadata": {},
   "outputs": [
    {
     "data": {
      "text/plain": [
       "'hey sagar how are you \\n'"
      ]
     },
     "execution_count": 16,
     "metadata": {},
     "output_type": "execute_result"
    }
   ],
   "source": [
    "sagar.read()"
   ]
  },
  {
   "cell_type": "code",
   "execution_count": 17,
   "id": "c5d0ca51",
   "metadata": {},
   "outputs": [
    {
     "data": {
      "text/plain": [
       "'C:\\\\Users\\\\sagar r thalavar\\\\Python'"
      ]
     },
     "execution_count": 17,
     "metadata": {},
     "output_type": "execute_result"
    }
   ],
   "source": [
    "pwd"
   ]
  },
  {
   "cell_type": "code",
   "execution_count": 19,
   "id": "d1d12131",
   "metadata": {},
   "outputs": [
    {
     "name": "stdout",
     "output_type": "stream",
     "text": [
      "Writing newfile.txt\n"
     ]
    }
   ],
   "source": [
    "%%writefile newfile.txt\n",
    "eheyejfjklba saskfksja fskfak sjf"
   ]
  },
  {
   "cell_type": "code",
   "execution_count": 20,
   "id": "ed398c2c",
   "metadata": {},
   "outputs": [
    {
     "data": {
      "text/plain": [
       "'eheyejfjklba saskfksja fskfak sjf\\n'"
      ]
     },
     "execution_count": 20,
     "metadata": {},
     "output_type": "execute_result"
    }
   ],
   "source": [
    "sagar=open('newfile.txt')\n",
    "sagar.read()"
   ]
  },
  {
   "cell_type": "code",
   "execution_count": 22,
   "id": "d94a6127",
   "metadata": {},
   "outputs": [
    {
     "name": "stdout",
     "output_type": "stream",
     "text": [
      "Overwriting bro.txt\n"
     ]
    }
   ],
   "source": [
    "%%writefile bro.txt\n",
    "hey buddy \n",
    "how are oou\n",
    "hey=open('bro.txt')\n",
    "hey.readlines()"
   ]
  },
  {
   "cell_type": "code",
   "execution_count": 23,
   "id": "2f808b53",
   "metadata": {},
   "outputs": [],
   "source": [
    "hey=open('bro.txt')\n"
   ]
  },
  {
   "cell_type": "code",
   "execution_count": 24,
   "id": "58a54fa0",
   "metadata": {},
   "outputs": [
    {
     "data": {
      "text/plain": [
       "['hey buddy \\n', 'how are oou\\n', \"hey=open('bro.txt')\\n\", 'hey.readlines()\\n']"
      ]
     },
     "execution_count": 24,
     "metadata": {},
     "output_type": "execute_result"
    }
   ],
   "source": [
    "hey.readlines()"
   ]
  },
  {
   "cell_type": "code",
   "execution_count": 25,
   "id": "ac4ad84d",
   "metadata": {},
   "outputs": [
    {
     "ename": "OSError",
     "evalue": "[Errno 22] Invalid argument: '\"D:\\\\Hard Times\\x07 years of youtube channel.txt\"'",
     "output_type": "error",
     "traceback": [
      "\u001b[1;31m---------------------------------------------------------------------------\u001b[0m",
      "\u001b[1;31mOSError\u001b[0m                                   Traceback (most recent call last)",
      "Cell \u001b[1;32mIn[25], line 1\u001b[0m\n\u001b[1;32m----> 1\u001b[0m sa\u001b[38;5;241m=\u001b[39m\u001b[38;5;28mopen\u001b[39m(\u001b[38;5;124m'\u001b[39m\u001b[38;5;124m\"\u001b[39m\u001b[38;5;124mD:\u001b[39m\u001b[38;5;124m\\\u001b[39m\u001b[38;5;124mHard Times\u001b[39m\u001b[38;5;130;01m\\7\u001b[39;00m\u001b[38;5;124m years of youtube channel.txt\u001b[39m\u001b[38;5;124m\"\u001b[39m\u001b[38;5;124m'\u001b[39m)\n",
      "File \u001b[1;32m~\\anaconda3\\Lib\\site-packages\\IPython\\core\\interactiveshell.py:286\u001b[0m, in \u001b[0;36m_modified_open\u001b[1;34m(file, *args, **kwargs)\u001b[0m\n\u001b[0;32m    279\u001b[0m \u001b[38;5;28;01mif\u001b[39;00m file \u001b[38;5;129;01min\u001b[39;00m {\u001b[38;5;241m0\u001b[39m, \u001b[38;5;241m1\u001b[39m, \u001b[38;5;241m2\u001b[39m}:\n\u001b[0;32m    280\u001b[0m     \u001b[38;5;28;01mraise\u001b[39;00m \u001b[38;5;167;01mValueError\u001b[39;00m(\n\u001b[0;32m    281\u001b[0m         \u001b[38;5;124mf\u001b[39m\u001b[38;5;124m\"\u001b[39m\u001b[38;5;124mIPython won\u001b[39m\u001b[38;5;124m'\u001b[39m\u001b[38;5;124mt let you open fd=\u001b[39m\u001b[38;5;132;01m{\u001b[39;00mfile\u001b[38;5;132;01m}\u001b[39;00m\u001b[38;5;124m by default \u001b[39m\u001b[38;5;124m\"\u001b[39m\n\u001b[0;32m    282\u001b[0m         \u001b[38;5;124m\"\u001b[39m\u001b[38;5;124mas it is likely to crash IPython. If you know what you are doing, \u001b[39m\u001b[38;5;124m\"\u001b[39m\n\u001b[0;32m    283\u001b[0m         \u001b[38;5;124m\"\u001b[39m\u001b[38;5;124myou can use builtins\u001b[39m\u001b[38;5;124m'\u001b[39m\u001b[38;5;124m open.\u001b[39m\u001b[38;5;124m\"\u001b[39m\n\u001b[0;32m    284\u001b[0m     )\n\u001b[1;32m--> 286\u001b[0m \u001b[38;5;28;01mreturn\u001b[39;00m io_open(file, \u001b[38;5;241m*\u001b[39margs, \u001b[38;5;241m*\u001b[39m\u001b[38;5;241m*\u001b[39mkwargs)\n",
      "\u001b[1;31mOSError\u001b[0m: [Errno 22] Invalid argument: '\"D:\\\\Hard Times\\x07 years of youtube channel.txt\"'"
     ]
    }
   ],
   "source": [
    "sa=open('\"D:\\Hard Times\\7 years of youtube channel.txt\"')"
   ]
  },
  {
   "cell_type": "code",
   "execution_count": 34,
   "id": "ad7a36e6",
   "metadata": {},
   "outputs": [],
   "source": [
    "hey=open('D:\\\\Hard Times\\\\brocode.txt')"
   ]
  },
  {
   "cell_type": "code",
   "execution_count": 35,
   "id": "8cbd56b7",
   "metadata": {},
   "outputs": [
    {
     "data": {
      "text/plain": [
       "'hey bro how re u'"
      ]
     },
     "execution_count": 35,
     "metadata": {},
     "output_type": "execute_result"
    }
   ],
   "source": [
    "hey.read()"
   ]
  },
  {
   "cell_type": "code",
   "execution_count": null,
   "id": "ace7621c",
   "metadata": {},
   "outputs": [],
   "source": []
  }
 ],
 "metadata": {
  "kernelspec": {
   "display_name": "Python 3 (ipykernel)",
   "language": "python",
   "name": "python3"
  },
  "language_info": {
   "codemirror_mode": {
    "name": "ipython",
    "version": 3
   },
   "file_extension": ".py",
   "mimetype": "text/x-python",
   "name": "python",
   "nbconvert_exporter": "python",
   "pygments_lexer": "ipython3",
   "version": "3.11.5"
  }
 },
 "nbformat": 4,
 "nbformat_minor": 5
}
